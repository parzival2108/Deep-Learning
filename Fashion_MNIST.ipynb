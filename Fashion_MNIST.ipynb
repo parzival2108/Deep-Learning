{
 "cells": [
  {
   "cell_type": "code",
   "execution_count": 1,
   "id": "275f6250",
   "metadata": {},
   "outputs": [
    {
     "name": "stdout",
     "output_type": "stream",
     "text": [
      "2.1.0\n"
     ]
    }
   ],
   "source": [
    "from tensorflow.keras.models import Sequential, load_model\n",
    "from tensorflow.keras.layers import Flatten, Dense, Conv2D, MaxPooling2D, BatchNormalization, Dropout\n",
    "import tensorflow as tf\n",
    "import numpy as np\n",
    "from tensorflow.keras.layers import MaxPool2D\n",
    "import matplotlib.pyplot as plt\n",
    "from tensorflow.keras import regularizers\n",
    "import pandas as pd\n",
    "from tensorflow.keras import Model\n",
    "from tensorflow.keras import Input\n",
    "from tensorflow.keras.losses import BinaryCrossentropy\n",
    "from tensorflow.keras.applications.resnet50 import ResNet50, preprocess_input,decode_predictions\n",
    "from tensorflow.keras.callbacks import ModelCheckpoint, EarlyStopping, Callback\n",
    "print(tf.__version__)\n"
   ]
  },
  {
   "cell_type": "markdown",
   "id": "1d322ccd",
   "metadata": {},
   "source": [
    "# Load the data"
   ]
  },
  {
   "cell_type": "code",
   "execution_count": 2,
   "id": "74996f90",
   "metadata": {},
   "outputs": [],
   "source": [
    "fashion_mnist = tf.keras.datasets.fashion_mnist"
   ]
  },
  {
   "cell_type": "code",
   "execution_count": 3,
   "id": "38aa9161",
   "metadata": {},
   "outputs": [],
   "source": [
    "(x_train,y_train),(x_test,y_test) = fashion_mnist.load_data()"
   ]
  },
  {
   "cell_type": "code",
   "execution_count": 4,
   "id": "42508052",
   "metadata": {},
   "outputs": [
    {
     "name": "stdout",
     "output_type": "stream",
     "text": [
      "x_train.shape: (60000, 28, 28)\n",
      "x_test.shape: (10000, 28, 28)\n"
     ]
    }
   ],
   "source": [
    "x_train, x_test = x_train/255.0, x_test/255.0\n",
    "print(\"x_train.shape:\", x_train.shape)\n",
    "print(\"x_test.shape:\", x_test.shape)\n"
   ]
  },
  {
   "cell_type": "markdown",
   "id": "f2c056b8",
   "metadata": {},
   "source": [
    "# Expand the dimensions\n"
   ]
  },
  {
   "cell_type": "code",
   "execution_count": 5,
   "id": "16fbda4c",
   "metadata": {},
   "outputs": [
    {
     "name": "stdout",
     "output_type": "stream",
     "text": [
      "x_train.shape: (60000, 28, 28, 1)\n",
      "x_test.shape: (10000, 28, 28, 1)\n"
     ]
    }
   ],
   "source": [
    "x_train = np.expand_dims(x_train,-1)\n",
    "x_test = np.expand_dims(x_test,-1)\n",
    "print(\"x_train.shape:\", x_train.shape)\n",
    "print(\"x_test.shape:\", x_test.shape)\n"
   ]
  },
  {
   "cell_type": "markdown",
   "id": "45e76ab1",
   "metadata": {},
   "source": [
    "# Number of classes"
   ]
  },
  {
   "cell_type": "code",
   "execution_count": 6,
   "id": "24efea2b",
   "metadata": {},
   "outputs": [
    {
     "name": "stdout",
     "output_type": "stream",
     "text": [
      "number of classes: 10\n"
     ]
    }
   ],
   "source": [
    "k = len(set(y_train))\n",
    "print(\"number of classes:\",k)"
   ]
  },
  {
   "cell_type": "markdown",
   "id": "a0a637f3",
   "metadata": {},
   "source": [
    "# Labels"
   ]
  },
  {
   "cell_type": "code",
   "execution_count": 28,
   "id": "c3432409",
   "metadata": {},
   "outputs": [],
   "source": [
    "labeles = [\n",
    "    \"T-shirt/top\",\n",
    "    \"Trouser\",\n",
    "    \"Pullover\",\n",
    "    \"Dress\",\n",
    "    \"Coat\",\n",
    "    \"Sandal\",\n",
    "    \"Shirt\",\n",
    "    \"Sneaker\",\n",
    "    \"Bag\",\n",
    "    \"Ankel boot\"\n",
    "]"
   ]
  },
  {
   "cell_type": "markdown",
   "id": "3e325f42",
   "metadata": {},
   "source": [
    "# Model 5"
   ]
  },
  {
   "cell_type": "code",
   "execution_count": 7,
   "id": "169de795",
   "metadata": {},
   "outputs": [],
   "source": [
    "def get_regularized_model(wd,dropout_rate):\n",
    "    Model5 = Sequential([\n",
    "        Conv2D(16,(3,3),kernel_regularizer=regularizers.l2(wd), activation = \"relu\", input_shape = (28,28,1)),\n",
    "        MaxPooling2D((3,3)),\n",
    "        BatchNormalization(momentum=0.95, epsilon=0.005,axis = -1,\n",
    "                           beta_initializer=tf.keras.initializers.RandomNormal(mean=0.0, stddev=0.05), \n",
    "                           gamma_initializer=tf.keras.initializers.Constant(value=0.9)),\n",
    "        Dropout(dropout_rate),\n",
    "        Conv2D(32, (3, 3), kernel_regularizer=regularizers.l2(wd), activation='relu'),\n",
    "        MaxPooling2D((2,2)),\n",
    "        BatchNormalization(momentum=0.95, epsilon=0.005,axis = -1,\n",
    "                           beta_initializer=tf.keras.initializers.RandomNormal(mean=0.0, stddev=0.05), \n",
    "                           gamma_initializer=tf.keras.initializers.Constant(value=0.9)),\n",
    "        Dropout(dropout_rate),\n",
    "        Flatten(),\n",
    "        Dense(128, kernel_regularizer=regularizers.l2(wd),activation = \"relu\"),\n",
    "        BatchNormalization(momentum=0.95, epsilon=0.005,axis = -1,\n",
    "                           beta_initializer=tf.keras.initializers.RandomNormal(mean=0.0, stddev=0.05), \n",
    "                           gamma_initializer=tf.keras.initializers.Constant(value=0.9)),\n",
    "        Dropout(dropout_rate),\n",
    "        Dense(10, activation = \"softmax\")\n",
    "                           ])\n",
    "    return Model5\n",
    "\n"
   ]
  },
  {
   "cell_type": "code",
   "execution_count": 8,
   "id": "98b0686f",
   "metadata": {},
   "outputs": [
    {
     "name": "stdout",
     "output_type": "stream",
     "text": [
      "Train on 60000 samples\n",
      "Epoch 1/25\n",
      "60000/60000 [==============================] - 7s 112us/sample - loss: 0.5758 - sparse_categorical_accuracy: 0.7901 - mean_absolute_error: 4.4200\n",
      "Epoch 2/25\n",
      "60000/60000 [==============================] - 6s 106us/sample - loss: 0.4221 - sparse_categorical_accuracy: 0.8443 - mean_absolute_error: 4.4200s - loss: 0.4283 - sparse_categorical_accuracy: 0.8427 -\n",
      "Epoch 3/25\n",
      "60000/60000 [==============================] - 7s 109us/sample - loss: 0.3905 - sparse_categorical_accuracy: 0.8577 - mean_absolute_error: 4.4200\n",
      "Epoch 4/25\n",
      "60000/60000 [==============================] - 6s 100us/sample - loss: 0.3738 - sparse_categorical_accuracy: 0.8631 - mean_absolute_error: 4.4200\n",
      "Epoch 5/25\n",
      "60000/60000 [==============================] - 7s 111us/sample - loss: 0.3616 - sparse_categorical_accuracy: 0.8672 - mean_absolute_error: 4.4200\n",
      "Epoch 6/25\n",
      "60000/60000 [==============================] - 6s 108us/sample - loss: 0.3527 - sparse_categorical_accuracy: 0.8718 - mean_absolute_error: 4.4200\n",
      "Epoch 7/25\n",
      "60000/60000 [==============================] - 6s 104us/sample - loss: 0.3514 - sparse_categorical_accuracy: 0.8733 - mean_absolute_error: 4.4200\n",
      "Epoch 8/25\n",
      "60000/60000 [==============================] - 6s 104us/sample - loss: 0.3422 - sparse_categorical_accuracy: 0.8765 - mean_absolute_error: 4.4200\n",
      "Epoch 9/25\n",
      "60000/60000 [==============================] - 7s 110us/sample - loss: 0.3389 - sparse_categorical_accuracy: 0.8788 - mean_absolute_error: 4.4200\n",
      "Epoch 10/25\n",
      "60000/60000 [==============================] - 6s 106us/sample - loss: 0.3371 - sparse_categorical_accuracy: 0.8776 - mean_absolute_error: 4.4200\n",
      "Epoch 11/25\n",
      "60000/60000 [==============================] - 6s 104us/sample - loss: 0.3331 - sparse_categorical_accuracy: 0.8811 - mean_absolute_error: 4.4200\n",
      "Epoch 12/25\n",
      "60000/60000 [==============================] - 6s 106us/sample - loss: 0.3332 - sparse_categorical_accuracy: 0.8812 - mean_absolute_error: 4.4200\n",
      "Epoch 13/25\n",
      "60000/60000 [==============================] - 6s 106us/sample - loss: 0.3301 - sparse_categorical_accuracy: 0.8829 - mean_absolute_error: 4.4200\n",
      "Epoch 14/25\n",
      "60000/60000 [==============================] - 6s 101us/sample - loss: 0.3280 - sparse_categorical_accuracy: 0.8849 - mean_absolute_error: 4.4200\n",
      "Epoch 15/25\n",
      "60000/60000 [==============================] - 6s 99us/sample - loss: 0.3250 - sparse_categorical_accuracy: 0.8849 - mean_absolute_error: 4.4200\n",
      "Epoch 16/25\n",
      "60000/60000 [==============================] - 6s 98us/sample - loss: 0.3259 - sparse_categorical_accuracy: 0.8860 - mean_absolute_error: 4.4200\n",
      "Epoch 17/25\n",
      "60000/60000 [==============================] - 6s 100us/sample - loss: 0.3284 - sparse_categorical_accuracy: 0.8854 - mean_absolute_error: 4.4200\n",
      "Epoch 18/25\n",
      "60000/60000 [==============================] - 6s 98us/sample - loss: 0.3266 - sparse_categorical_accuracy: 0.8861 - mean_absolute_error: 4.4200\n",
      "Epoch 19/25\n",
      "60000/60000 [==============================] - 6s 99us/sample - loss: 0.3243 - sparse_categorical_accuracy: 0.8867 - mean_absolute_error: 4.4200\n",
      "Epoch 20/25\n",
      "60000/60000 [==============================] - 6s 103us/sample - loss: 0.3247 - sparse_categorical_accuracy: 0.8886 - mean_absolute_error: 4.4200\n",
      "Epoch 21/25\n",
      "60000/60000 [==============================] - 6s 107us/sample - loss: 0.3249 - sparse_categorical_accuracy: 0.8878 - mean_absolute_error: 4.4200\n",
      "Epoch 22/25\n",
      "60000/60000 [==============================] - 6s 103us/sample - loss: 0.3234 - sparse_categorical_accuracy: 0.8891 - mean_absolute_error: 4.4200\n",
      "Epoch 23/25\n",
      "60000/60000 [==============================] - 6s 105us/sample - loss: 0.3242 - sparse_categorical_accuracy: 0.8894 - mean_absolute_error: 4.4200\n",
      "Epoch 24/25\n",
      "60000/60000 [==============================] - 6s 105us/sample - loss: 0.3217 - sparse_categorical_accuracy: 0.8892 - mean_absolute_error: 4.4200\n",
      "Epoch 25/25\n",
      "60000/60000 [==============================] - 6s 108us/sample - loss: 0.3231 - sparse_categorical_accuracy: 0.8890 - mean_absolute_error: 4.4200\n"
     ]
    }
   ],
   "source": [
    "Model5 = get_regularized_model(1e-5,0.3)\n",
    "opt = tf.keras.optimizers.Adam(learning_rate=0.005)\n",
    "acc = tf.keras.metrics.SparseCategoricalAccuracy()\n",
    "mae = tf.keras.metrics.MeanAbsoluteError()\n",
    "Model5.compile(optimizer = opt,\n",
    "              loss = \"sparse_categorical_crossentropy\",\n",
    "              metrics= [acc,mae])\n",
    "M5= Model5.fit(x_train,y_train, epochs =25, batch_size = 256)"
   ]
  },
  {
   "cell_type": "code",
   "execution_count": 10,
   "id": "16d852ab",
   "metadata": {},
   "outputs": [
    {
     "name": "stdout",
     "output_type": "stream",
     "text": [
      "10000/10000 [==============================] - 1s 56us/sample - loss: 0.2872 - sparse_categorical_accuracy: 0.9020 - mean_absolute_error: 4.4200\n"
     ]
    },
    {
     "data": {
      "text/plain": [
       "[0.2871879375219345, 0.902, 4.419997]"
      ]
     },
     "execution_count": 10,
     "metadata": {},
     "output_type": "execute_result"
    }
   ],
   "source": [
    "Model5.evaluate(x_test,y_test)"
   ]
  },
  {
   "cell_type": "code",
   "execution_count": 11,
   "id": "2a2601a6",
   "metadata": {},
   "outputs": [
    {
     "name": "stdout",
     "output_type": "stream",
     "text": [
      "        loss  sparse_categorical_accuracy  mean_absolute_error\n",
      "0   0.575802                     0.790050             4.420000\n",
      "1   0.422103                     0.844350             4.420001\n",
      "2   0.390470                     0.857733             4.420001\n",
      "3   0.373800                     0.863117             4.420002\n",
      "4   0.361581                     0.867200             4.420001\n",
      "5   0.352707                     0.871817             4.420000\n",
      "6   0.351355                     0.873333             4.420000\n",
      "7   0.342169                     0.876450             4.419999\n",
      "8   0.338923                     0.878833             4.419999\n",
      "9   0.337107                     0.877583             4.420000\n",
      "10  0.333057                     0.881117             4.420000\n",
      "11  0.333231                     0.881217             4.420000\n",
      "12  0.330141                     0.882883             4.420000\n",
      "13  0.328041                     0.884867             4.420000\n",
      "14  0.325025                     0.884850             4.420000\n",
      "15  0.325941                     0.886033             4.420000\n",
      "16  0.328365                     0.885367             4.420001\n",
      "17  0.326615                     0.886083             4.419998\n",
      "18  0.324280                     0.886650             4.419998\n",
      "19  0.324747                     0.888583             4.420001\n",
      "20  0.324908                     0.887750             4.420001\n",
      "21  0.323415                     0.889050             4.420002\n",
      "22  0.324223                     0.889400             4.420000\n",
      "23  0.321743                     0.889233             4.420001\n",
      "24  0.323064                     0.888983             4.420001\n"
     ]
    }
   ],
   "source": [
    "print(pd.DataFrame(M5.history))"
   ]
  },
  {
   "cell_type": "markdown",
   "id": "f9d70e20",
   "metadata": {},
   "source": [
    "# CallBacks"
   ]
  },
  {
   "cell_type": "code",
   "execution_count": 12,
   "id": "1f632e82",
   "metadata": {},
   "outputs": [
    {
     "name": "stdout",
     "output_type": "stream",
     "text": [
      "Train on 51000 samples, validate on 9000 samples\n",
      "Epoch 1/25\n",
      "51000/51000 - 7s - loss: 0.5061 - sparse_categorical_accuracy: 0.8137 - val_loss: 0.3629 - val_sparse_categorical_accuracy: 0.8620\n",
      "Epoch 2/25\n",
      "51000/51000 - 7s - loss: 0.3855 - sparse_categorical_accuracy: 0.8579 - val_loss: 0.3117 - val_sparse_categorical_accuracy: 0.8838\n",
      "Epoch 3/25\n",
      "51000/51000 - 7s - loss: 0.3540 - sparse_categorical_accuracy: 0.8693 - val_loss: 0.2923 - val_sparse_categorical_accuracy: 0.8897\n",
      "Epoch 4/25\n",
      "51000/51000 - 7s - loss: 0.3382 - sparse_categorical_accuracy: 0.8768 - val_loss: 0.3053 - val_sparse_categorical_accuracy: 0.8841\n",
      "Epoch 5/25\n",
      "51000/51000 - 7s - loss: 0.3245 - sparse_categorical_accuracy: 0.8801 - val_loss: 0.2826 - val_sparse_categorical_accuracy: 0.8933\n",
      "Epoch 6/25\n",
      "51000/51000 - 7s - loss: 0.3145 - sparse_categorical_accuracy: 0.8836 - val_loss: 0.3114 - val_sparse_categorical_accuracy: 0.8803\n",
      "Epoch 7/25\n",
      "51000/51000 - 7s - loss: 0.3086 - sparse_categorical_accuracy: 0.8858 - val_loss: 0.2868 - val_sparse_categorical_accuracy: 0.8921\n",
      "Epoch 8/25\n",
      "51000/51000 - 7s - loss: 0.3018 - sparse_categorical_accuracy: 0.8889 - val_loss: 0.2837 - val_sparse_categorical_accuracy: 0.8910\n",
      "Epoch 9/25\n",
      "51000/51000 - 7s - loss: 0.2998 - sparse_categorical_accuracy: 0.8886 - val_loss: 0.2652 - val_sparse_categorical_accuracy: 0.9019\n",
      "Epoch 10/25\n",
      "51000/51000 - 7s - loss: 0.2933 - sparse_categorical_accuracy: 0.8907 - val_loss: 0.2518 - val_sparse_categorical_accuracy: 0.9038\n",
      "Epoch 11/25\n",
      "51000/51000 - 8s - loss: 0.2904 - sparse_categorical_accuracy: 0.8927 - val_loss: 0.2573 - val_sparse_categorical_accuracy: 0.9034\n",
      "Epoch 12/25\n",
      "51000/51000 - 7s - loss: 0.2841 - sparse_categorical_accuracy: 0.8948 - val_loss: 0.2739 - val_sparse_categorical_accuracy: 0.8948\n",
      "Epoch 13/25\n",
      "51000/51000 - 7s - loss: 0.2840 - sparse_categorical_accuracy: 0.8950 - val_loss: 0.2982 - val_sparse_categorical_accuracy: 0.8880\n",
      "Epoch 14/25\n",
      "51000/51000 - 7s - loss: 0.2805 - sparse_categorical_accuracy: 0.8951 - val_loss: 0.2742 - val_sparse_categorical_accuracy: 0.8979\n",
      "Epoch 15/25\n",
      "51000/51000 - 7s - loss: 0.2758 - sparse_categorical_accuracy: 0.8980 - val_loss: 0.2761 - val_sparse_categorical_accuracy: 0.8970\n",
      "Epoch 16/25\n",
      "51000/51000 - 7s - loss: 0.2741 - sparse_categorical_accuracy: 0.8984 - val_loss: 0.2388 - val_sparse_categorical_accuracy: 0.9110\n",
      "Epoch 17/25\n",
      "51000/51000 - 7s - loss: 0.2712 - sparse_categorical_accuracy: 0.9003 - val_loss: 0.2459 - val_sparse_categorical_accuracy: 0.9094\n",
      "Epoch 18/25\n",
      "51000/51000 - 7s - loss: 0.2702 - sparse_categorical_accuracy: 0.9007 - val_loss: 0.2474 - val_sparse_categorical_accuracy: 0.9081\n",
      "Epoch 19/25\n",
      "51000/51000 - 7s - loss: 0.2673 - sparse_categorical_accuracy: 0.9005 - val_loss: 0.2645 - val_sparse_categorical_accuracy: 0.9008\n",
      "Epoch 20/25\n",
      "51000/51000 - 7s - loss: 0.2690 - sparse_categorical_accuracy: 0.9001 - val_loss: 0.2533 - val_sparse_categorical_accuracy: 0.9058\n",
      "Epoch 21/25\n",
      "51000/51000 - 7s - loss: 0.2632 - sparse_categorical_accuracy: 0.9012 - val_loss: 0.2618 - val_sparse_categorical_accuracy: 0.9008\n",
      "Epoch 22/25\n",
      "51000/51000 - 7s - loss: 0.2639 - sparse_categorical_accuracy: 0.9019 - val_loss: 0.2552 - val_sparse_categorical_accuracy: 0.9053\n",
      "Epoch 23/25\n",
      "51000/51000 - 7s - loss: 0.2650 - sparse_categorical_accuracy: 0.9013 - val_loss: 0.2466 - val_sparse_categorical_accuracy: 0.9088\n",
      "Epoch 24/25\n",
      "51000/51000 - 7s - loss: 0.2559 - sparse_categorical_accuracy: 0.9048 - val_loss: 0.2495 - val_sparse_categorical_accuracy: 0.9059\n",
      "Epoch 25/25\n",
      "51000/51000 - 7s - loss: 0.2576 - sparse_categorical_accuracy: 0.9053 - val_loss: 0.2451 - val_sparse_categorical_accuracy: 0.9084\n"
     ]
    }
   ],
   "source": [
    "opt = tf.keras.optimizers.Adam(learning_rate=0.005)\n",
    "acc = tf.keras.metrics.SparseCategoricalAccuracy()\n",
    "mae = tf.keras.metrics.MeanAbsoluteError()\n",
    "regularized_model = get_regularized_model(1e-8, 0.2)\n",
    "regularized_model.compile(optimizer = opt, loss = \"sparse_categorical_crossentropy\", metrics = [acc]) \n",
    "reg_history = regularized_model.fit(x_train,\n",
    "                                   y_train,\n",
    "                                   epochs = 25,\n",
    "                                   validation_split = 0.15,\n",
    "                                   batch_size = 64,\n",
    "                                    verbose = 2,\n",
    "                                   callbacks = [tf.keras.callbacks.EarlyStopping(patience=10)])\n"
   ]
  },
  {
   "cell_type": "code",
   "execution_count": null,
   "id": "39cc036f",
   "metadata": {},
   "outputs": [],
   "source": []
  },
  {
   "cell_type": "markdown",
   "id": "5101f7c2",
   "metadata": {},
   "source": [
    "# Plot"
   ]
  },
  {
   "cell_type": "code",
   "execution_count": 10,
   "id": "ab1d059a",
   "metadata": {},
   "outputs": [
    {
     "data": {
      "image/png": "[encoded data removed]",
      "text/plain": [
       "<Figure size 432x288 with 1 Axes>"
      ]
     },
     "metadata": {
      "needs_background": "light"
     },
     "output_type": "display_data"
    }
   ],
   "source": [
    "plt.plot(reg_history.history[\"loss\"])\n",
    "plt.plot(reg_history.history[\"val_loss\"])\n",
    "plt.title(\"Loss vs Epoch\")\n",
    "plt.ylabel(\"loss\")\n",
    "plt.xlabel(\"epoch\")\n",
    "plt.legend([\"Training\", \"Validation\"], loc = \"upper right\")\n",
    "\n",
    "plt.show()"
   ]
  },
  {
   "cell_type": "markdown",
   "id": "2bf78ddb",
   "metadata": {},
   "source": [
    "# Saving the Model"
   ]
  },
  {
   "cell_type": "code",
   "execution_count": 14,
   "id": "79f25681",
   "metadata": {},
   "outputs": [],
   "source": [
    "checkpoint_path = \"Model_CheckPoints\"\n",
    "checkpoint = ModelCheckpoint(filepath=checkpoint_path,save_weights_only=False,save_freq=\"epoch\", verbose = 1)\n",
    "                            "
   ]
  },
  {
   "cell_type": "code",
   "execution_count": 15,
   "id": "b814c6c1",
   "metadata": {},
   "outputs": [
    {
     "name": "stdout",
     "output_type": "stream",
     "text": [
      "Train on 51000 samples, validate on 9000 samples\n",
      "Epoch 1/5\n",
      "\n",
      "Epoch 00001: saving model to Model_CheckPoints\n",
      "WARNING:tensorflow:From /Users/parzival2108/opt/anaconda3/lib/python3.7/site-packages/tensorflow_core/python/ops/resource_variable_ops.py:1786: calling BaseResourceVariable.__init__ (from tensorflow.python.ops.resource_variable_ops) with constraint is deprecated and will be removed in a future version.\n",
      "Instructions for updating:\n",
      "If using Keras pass *_constraint arguments to layers.\n",
      "INFO:tensorflow:Assets written to: Model_CheckPoints/assets\n",
      "51000/51000 - 9s - loss: 0.5062 - sparse_categorical_accuracy: 0.8115 - val_loss: 0.4334 - val_sparse_categorical_accuracy: 0.8337\n",
      "Epoch 2/5\n",
      "\n",
      "Epoch 00002: saving model to Model_CheckPoints\n",
      "INFO:tensorflow:Assets written to: Model_CheckPoints/assets\n",
      "51000/51000 - 8s - loss: 0.3880 - sparse_categorical_accuracy: 0.8549 - val_loss: 0.3304 - val_sparse_categorical_accuracy: 0.8738\n",
      "Epoch 3/5\n",
      "\n",
      "Epoch 00003: saving model to Model_CheckPoints\n",
      "INFO:tensorflow:Assets written to: Model_CheckPoints/assets\n",
      "51000/51000 - 8s - loss: 0.3584 - sparse_categorical_accuracy: 0.8681 - val_loss: 0.3291 - val_sparse_categorical_accuracy: 0.8774\n",
      "Epoch 4/5\n",
      "\n",
      "Epoch 00004: saving model to Model_CheckPoints\n",
      "INFO:tensorflow:Assets written to: Model_CheckPoints/assets\n",
      "51000/51000 - 8s - loss: 0.3425 - sparse_categorical_accuracy: 0.8725 - val_loss: 0.3162 - val_sparse_categorical_accuracy: 0.8761\n",
      "Epoch 5/5\n",
      "\n",
      "Epoch 00005: saving model to Model_CheckPoints\n",
      "INFO:tensorflow:Assets written to: Model_CheckPoints/assets\n",
      "51000/51000 - 8s - loss: 0.3327 - sparse_categorical_accuracy: 0.8766 - val_loss: 0.3162 - val_sparse_categorical_accuracy: 0.8788\n"
     ]
    }
   ],
   "source": [
    "opt = tf.keras.optimizers.Adam(learning_rate=0.005)\n",
    "acc = tf.keras.metrics.SparseCategoricalAccuracy()\n",
    "mae = tf.keras.metrics.MeanAbsoluteError()\n",
    "regularized_model = get_regularized_model(1e-8, 0.2)\n",
    "regularized_model.compile(optimizer = opt, loss = \"sparse_categorical_crossentropy\", metrics = [acc]) \n",
    "reg_history = regularized_model.fit(x_train,\n",
    "                                   y_train,\n",
    "                                   epochs = 5,\n",
    "                                   validation_split = 0.15,\n",
    "                                   batch_size = 64,\n",
    "                                    verbose = 2,\n",
    "                                   callbacks = [tf.keras.callbacks.EarlyStopping(patience=10),checkpoint])"
   ]
  },
  {
   "cell_type": "code",
   "execution_count": 18,
   "id": "c558a795",
   "metadata": {},
   "outputs": [
    {
     "name": "stdout",
     "output_type": "stream",
     "text": [
      "total 816\r\n",
      "drwxr-xr-x@ 2 parzival2108  staff    64B 29 Nov 00:32 \u001b[34massets\u001b[m\u001b[m\r\n",
      "-rw-r--r--  1 parzival2108  staff   407K 29 Nov 00:32 saved_model.pb\r\n",
      "drwxr-xr-x@ 4 parzival2108  staff   128B 29 Nov 00:32 \u001b[34mvariables\u001b[m\u001b[m\r\n"
     ]
    }
   ],
   "source": [
    "! ls -lh Model_CheckPoints"
   ]
  },
  {
   "cell_type": "code",
   "execution_count": 19,
   "id": "ac6418b5",
   "metadata": {},
   "outputs": [
    {
     "name": "stdout",
     "output_type": "stream",
     "text": [
      "total 1056\r\n",
      "-rw-r--r--  1 parzival2108  staff   522K 29 Nov 00:32 variables.data-00000-of-00001\r\n",
      "-rw-r--r--  1 parzival2108  staff   3.6K 29 Nov 00:32 variables.index\r\n"
     ]
    }
   ],
   "source": [
    "! ls -lh Model_CheckPoints/variables"
   ]
  },
  {
   "cell_type": "code",
   "execution_count": 20,
   "id": "a522cfd9",
   "metadata": {},
   "outputs": [
    {
     "name": "stdout",
     "output_type": "stream",
     "text": [
      "10000/10000 [==============================] - 0s 44us/sample - loss: 0.3260 - sparse_categorical_accuracy: 0.8766\n"
     ]
    },
    {
     "data": {
      "text/plain": [
       "[0.32596769139766696, 0.8766]"
      ]
     },
     "execution_count": 20,
     "metadata": {},
     "output_type": "execute_result"
    }
   ],
   "source": [
    "regularized_model.evaluate(x_test,y_test)"
   ]
  },
  {
   "cell_type": "markdown",
   "id": "d4339121",
   "metadata": {},
   "source": [
    "# Load the model"
   ]
  },
  {
   "cell_type": "code",
   "execution_count": 22,
   "id": "7b27be24",
   "metadata": {},
   "outputs": [],
   "source": [
    "model = load_model(checkpoint_path)"
   ]
  },
  {
   "cell_type": "code",
   "execution_count": 23,
   "id": "3d330ca9",
   "metadata": {},
   "outputs": [
    {
     "name": "stdout",
     "output_type": "stream",
     "text": [
      "10000/10000 [==============================] - 1s 55us/sample - loss: 0.3260 - sparse_categorical_accuracy: 0.8766\n"
     ]
    },
    {
     "data": {
      "text/plain": [
       "[0.32596778523921965, 0.8766]"
      ]
     },
     "execution_count": 23,
     "metadata": {},
     "output_type": "execute_result"
    }
   ],
   "source": [
    "model.evaluate(x_test,y_test)"
   ]
  },
  {
   "cell_type": "markdown",
   "id": "4f1ca5bc",
   "metadata": {},
   "source": [
    "# .h5 format to save"
   ]
  },
  {
   "cell_type": "code",
   "execution_count": 24,
   "id": "120747d4",
   "metadata": {},
   "outputs": [],
   "source": [
    "model.save(\"my_model.h5\")"
   ]
  },
  {
   "cell_type": "code",
   "execution_count": 25,
   "id": "c202ce04",
   "metadata": {},
   "outputs": [
    {
     "name": "stdout",
     "output_type": "stream",
     "text": [
      "-rw-r--r--  1 parzival2108  staff   210K 29 Nov 00:42 my_model.h5\r\n"
     ]
    }
   ],
   "source": [
    "! ls -lh my_model.h5"
   ]
  },
  {
   "cell_type": "markdown",
   "id": "e2dd43c2",
   "metadata": {},
   "source": [
    "# Clear Directory"
   ]
  },
  {
   "cell_type": "code",
   "execution_count": 26,
   "id": "45b3dd42",
   "metadata": {},
   "outputs": [],
   "source": [
    "! rm -r Model_CheckPoints"
   ]
  },
  {
   "cell_type": "code",
   "execution_count": 27,
   "id": "155f5007",
   "metadata": {},
   "outputs": [],
   "source": [
    "! rm -r my_model.h5"
   ]
  },
  {
   "cell_type": "markdown",
   "id": "885dec69",
   "metadata": {},
   "source": [
    "# errors"
   ]
  },
  {
   "cell_type": "code",
   "execution_count": null,
   "id": "7db79b45",
   "metadata": {},
   "outputs": [],
   "source": [
    "regularized_model.evaluate(x_test,y_test)\n",
    "\n",
    "# solution \n",
    "regularized_model.evaluate(x_test[...,np.newaxis],y_test)"
   ]
  },
  {
   "cell_type": "markdown",
   "id": "9c8f4c29",
   "metadata": {},
   "source": [
    "# Predict Method"
   ]
  },
  {
   "cell_type": "code",
   "execution_count": 67,
   "id": "d291a1b6",
   "metadata": {},
   "outputs": [
    {
     "name": "stdout",
     "output_type": "stream",
     "text": [
      "[[7.1644194e-05 9.5949024e-01 1.1723199e-05 3.9846338e-02 4.0097217e-05\n",
      "  1.2650801e-05 5.1662396e-04 6.3540683e-06 1.6027557e-06 2.7457925e-06]]\n"
     ]
    },
    {
     "data": {
      "image/png": "[encoded data removed]",
      "text/plain": [
       "<Figure size 432x288 with 1 Axes>"
      ]
     },
     "metadata": {
      "needs_background": "light"
     },
     "output_type": "display_data"
    },
    {
     "name": "stdout",
     "output_type": "stream",
     "text": [
      "label:Trouser\n"
     ]
    }
   ],
   "source": [
    "random_index = np.random.choice(x_test.shape[0])\n",
    "test_image = x_test[random_index]\n",
    "print(regularized_model.predict(test_image[np.newaxis,...,]))\n",
    "plt.imshow(test_image)\n",
    "plt.show()\n",
    "print(f\"label:{labeles[y_test[random_index]]}\")"
   ]
  },
  {
   "cell_type": "code",
   "execution_count": null,
   "id": "71517c78",
   "metadata": {},
   "outputs": [],
   "source": []
  }
 ],
 "metadata": {
  "kernelspec": {
   "display_name": "Python 3",
   "language": "python",
   "name": "python3"
  },
  "language_info": {
   "codemirror_mode": {
    "name": "ipython",
    "version": 3
   },
   "file_extension": ".py",
   "mimetype": "text/x-python",
   "name": "python",
   "nbconvert_exporter": "python",
   "pygments_lexer": "ipython3",
   "version": "3.7.11"
  }
 },
 "nbformat": 4,
 "nbformat_minor": 5
}
