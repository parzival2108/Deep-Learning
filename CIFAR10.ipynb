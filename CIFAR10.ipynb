{
 "cells": [
  {
   "cell_type": "code",
   "execution_count": 1,
   "id": "e42ba2b9",
   "metadata": {},
   "outputs": [
    {
     "name": "stdout",
     "output_type": "stream",
     "text": [
      "2.1.0\n"
     ]
    }
   ],
   "source": [
    "from tensorflow.keras.models import Sequential, load_model\n",
    "from tensorflow.keras.layers import Flatten, Dense, Conv2D, MaxPooling2D, BatchNormalization, Dropout, GlobalMaxPooling2D\n",
    "import tensorflow as tf\n",
    "import numpy as np\n",
    "from tensorflow.keras.layers import MaxPool2D\n",
    "import matplotlib.pyplot as plt\n",
    "from tensorflow.keras import regularizers\n",
    "import pandas as pd\n",
    "from tensorflow.keras import Model\n",
    "from tensorflow.keras import Input\n",
    "from tensorflow.keras.losses import BinaryCrossentropy\n",
    "from tensorflow.keras.applications.resnet50 import ResNet50, preprocess_input,decode_predictions\n",
    "from tensorflow.keras.callbacks import ModelCheckpoint, EarlyStopping, Callback\n",
    "print(tf.__version__)\n"
   ]
  },
  {
   "cell_type": "markdown",
   "id": "13d9df2c",
   "metadata": {},
   "source": [
    "# Load the Data"
   ]
  },
  {
   "cell_type": "code",
   "execution_count": 2,
   "id": "c7ce1afb",
   "metadata": {},
   "outputs": [],
   "source": [
    "cifar10 = tf.keras.datasets.cifar10"
   ]
  },
  {
   "cell_type": "code",
   "execution_count": 3,
   "id": "311c3af5",
   "metadata": {},
   "outputs": [],
   "source": [
    "(x_train,y_train),(x_test,y_test) = cifar10.load_data()"
   ]
  },
  {
   "cell_type": "code",
   "execution_count": 4,
   "id": "611f55a6",
   "metadata": {},
   "outputs": [],
   "source": [
    "x_train, x_test = x_train/255.0, x_test/255.0 \n"
   ]
  },
  {
   "cell_type": "code",
   "execution_count": 5,
   "id": "68cc2915",
   "metadata": {},
   "outputs": [],
   "source": [
    "y_train, y_test = y_train.flatten(), y_test.flatten()"
   ]
  },
  {
   "cell_type": "code",
   "execution_count": null,
   "id": "aa952151",
   "metadata": {},
   "outputs": [],
   "source": []
  },
  {
   "cell_type": "markdown",
   "id": "1792f756",
   "metadata": {},
   "source": [
    "# Number of Classes"
   ]
  },
  {
   "cell_type": "code",
   "execution_count": 6,
   "id": "90cdfad5",
   "metadata": {},
   "outputs": [],
   "source": [
    "k = len(set(y_train))"
   ]
  },
  {
   "cell_type": "code",
   "execution_count": 7,
   "id": "39de738a",
   "metadata": {},
   "outputs": [
    {
     "data": {
      "text/plain": [
       "array([6, 9, 4, 1, 2, 7, 8, 3, 5, 0], dtype=uint8)"
      ]
     },
     "execution_count": 7,
     "metadata": {},
     "output_type": "execute_result"
    }
   ],
   "source": [
    "pd.unique(y_train)"
   ]
  },
  {
   "cell_type": "code",
   "execution_count": 8,
   "id": "3ba50da1",
   "metadata": {},
   "outputs": [
    {
     "data": {
      "text/plain": [
       "(32, 32, 3)"
      ]
     },
     "execution_count": 8,
     "metadata": {},
     "output_type": "execute_result"
    }
   ],
   "source": [
    "x_train[0].shape"
   ]
  },
  {
   "cell_type": "markdown",
   "id": "afbbbae2",
   "metadata": {},
   "source": [
    "# Labels"
   ]
  },
  {
   "cell_type": "code",
   "execution_count": 9,
   "id": "fe88186d",
   "metadata": {},
   "outputs": [],
   "source": [
    "labels = [\"Aeroplane\",\n",
    "         \"Automobile\",\n",
    "         \"Bird\",\n",
    "         \"Cat\",\n",
    "         \"Deer\",\n",
    "         \"Dog\",\n",
    "         \"Frog\",\n",
    "         \"Horse\",\n",
    "         \"Ship\",\n",
    "         \"Truck\"]"
   ]
  },
  {
   "cell_type": "code",
   "execution_count": null,
   "id": "af393a52",
   "metadata": {},
   "outputs": [],
   "source": []
  },
  {
   "cell_type": "markdown",
   "id": "f530310c",
   "metadata": {},
   "source": [
    "# Building the Model"
   ]
  },
  {
   "cell_type": "code",
   "execution_count": 10,
   "id": "80350a1b",
   "metadata": {},
   "outputs": [],
   "source": [
    "def get_regularized_model(wd,dropout_rate):\n",
    "    Model = Sequential([\n",
    "        Conv2D(16,(3,3),kernel_regularizer=regularizers.l2(wd), activation = \"relu\", input_shape = (32, 32, 3)),\n",
    "        MaxPooling2D((3,3)),\n",
    "        BatchNormalization(momentum=0.95, epsilon=0.005,axis = -1,\n",
    "                           beta_initializer=tf.keras.initializers.RandomNormal(mean=0.0, stddev=0.05), \n",
    "                           gamma_initializer=tf.keras.initializers.Constant(value=0.9)),\n",
    "        Dropout(dropout_rate),\n",
    "        Conv2D(32, (3, 3), kernel_regularizer=regularizers.l2(wd), activation='relu'),\n",
    "        MaxPooling2D((2,2)),\n",
    "        BatchNormalization(momentum=0.95, epsilon=0.005,axis = -1,\n",
    "                           beta_initializer=tf.keras.initializers.RandomNormal(mean=0.0, stddev=0.05), \n",
    "                           gamma_initializer=tf.keras.initializers.Constant(value=0.9)),\n",
    "        Dropout(dropout_rate),\n",
    "        Flatten(),\n",
    "        Dense(128, kernel_regularizer=regularizers.l2(wd),activation = \"relu\"),\n",
    "        BatchNormalization(momentum=0.95, epsilon=0.005,axis = -1,\n",
    "                           beta_initializer=tf.keras.initializers.RandomNormal(mean=0.0, stddev=0.05), \n",
    "                           gamma_initializer=tf.keras.initializers.Constant(value=0.9)),\n",
    "        Dropout(dropout_rate),\n",
    "        Dense(10, activation = \"softmax\")\n",
    "                           ])\n",
    "    return Model\n",
    "\n"
   ]
  },
  {
   "cell_type": "markdown",
   "id": "36eb0c12",
   "metadata": {},
   "source": [
    "# Hyperparameters"
   ]
  },
  {
   "cell_type": "code",
   "execution_count": 11,
   "id": "e4187724",
   "metadata": {},
   "outputs": [],
   "source": [
    "\n",
    "regularized_model = get_regularized_model(1e-8, 0.2)"
   ]
  },
  {
   "cell_type": "markdown",
   "id": "bfc40064",
   "metadata": {},
   "source": [
    "# Model CheckPoint"
   ]
  },
  {
   "cell_type": "code",
   "execution_count": 12,
   "id": "f99f76a7",
   "metadata": {},
   "outputs": [],
   "source": [
    "checkpoint_path = \"Model_CheckPoints\"\n",
    "checkpoint = ModelCheckpoint(filepath=checkpoint_path,save_weights_only=False,save_freq=\"epoch\", verbose = 1)\n",
    "                            "
   ]
  },
  {
   "cell_type": "code",
   "execution_count": 16,
   "id": "e2affc07",
   "metadata": {},
   "outputs": [
    {
     "name": "stdout",
     "output_type": "stream",
     "text": [
      "Train on 42500 samples, validate on 7500 samples\n",
      "Epoch 1/15\n",
      "42500/42500 - 10s - loss: 0.8446 - accuracy: 0.7029 - val_loss: 0.9112 - val_accuracy: 0.6837\n",
      "Epoch 2/15\n",
      "42500/42500 - 9s - loss: 0.8315 - accuracy: 0.7095 - val_loss: 0.9768 - val_accuracy: 0.6689\n",
      "Epoch 3/15\n",
      "42500/42500 - 9s - loss: 0.8257 - accuracy: 0.7089 - val_loss: 0.7695 - val_accuracy: 0.7315\n",
      "Epoch 4/15\n",
      "42500/42500 - 9s - loss: 0.8079 - accuracy: 0.7147 - val_loss: 0.8136 - val_accuracy: 0.7097\n",
      "Epoch 5/15\n",
      "42500/42500 - 9s - loss: 0.8114 - accuracy: 0.7121 - val_loss: 0.7804 - val_accuracy: 0.7296\n",
      "Epoch 6/15\n",
      "42500/42500 - 9s - loss: 0.8000 - accuracy: 0.7191 - val_loss: 0.8033 - val_accuracy: 0.7155\n",
      "Epoch 7/15\n",
      "42500/42500 - 9s - loss: 0.7968 - accuracy: 0.7173 - val_loss: 0.7775 - val_accuracy: 0.7309\n",
      "Epoch 8/15\n",
      "42500/42500 - 9s - loss: 0.7907 - accuracy: 0.7211 - val_loss: 0.8076 - val_accuracy: 0.7180\n"
     ]
    }
   ],
   "source": [
    "opt = tf.keras.optimizers.Adam() # learning_rate=0.005\n",
    "acc = tf.keras.metrics.SparseCategoricalAccuracy()\n",
    "mae = tf.keras.metrics.MeanAbsoluteError()\n",
    "regularized_model.compile(optimizer = opt, loss = \"sparse_categorical_crossentropy\", metrics = [\"accuracy\"]) \n",
    "reg_history = regularized_model.fit(x_train,\n",
    "                                   y_train,\n",
    "                                   epochs = 15,\n",
    "                                   validation_split = 0.15,\n",
    "                                   batch_size = 64,\n",
    "                                    verbose = 2,\n",
    "                                   callbacks = [tf.keras.callbacks.EarlyStopping(patience=5)])"
   ]
  },
  {
   "cell_type": "markdown",
   "id": "fbf3646b",
   "metadata": {},
   "source": [
    "# Prediction"
   ]
  },
  {
   "cell_type": "code",
   "execution_count": 14,
   "id": "cf522aaa",
   "metadata": {},
   "outputs": [
    {
     "name": "stdout",
     "output_type": "stream",
     "text": [
      "[[2.3217715e-02 6.8207544e-01 2.6052212e-04 1.7896129e-02 8.1353246e-05\n",
      "  2.2902358e-03 1.1104125e-03 5.9517747e-04 2.6476109e-01 7.7119074e-03]]\n"
     ]
    },
    {
     "data": {
      "image/png": "[encoded data removed]",
      "text/plain": [
       "<Figure size 432x288 with 1 Axes>"
      ]
     },
     "metadata": {
      "needs_background": "light"
     },
     "output_type": "display_data"
    },
    {
     "name": "stdout",
     "output_type": "stream",
     "text": [
      "label:Automobile\n"
     ]
    }
   ],
   "source": [
    "random_index = np.random.choice(x_test.shape[0])\n",
    "test_image = x_test[random_index]\n",
    "print(regularized_model.predict(test_image[np.newaxis,...,]))\n",
    "plt.imshow(test_image)\n",
    "plt.show()\n",
    "print(f\"label:{labels[y_test[random_index]]}\")"
   ]
  },
  {
   "cell_type": "code",
   "execution_count": null,
   "id": "3845cf5e",
   "metadata": {},
   "outputs": [],
   "source": []
  },
  {
   "cell_type": "markdown",
   "id": "39af98ea",
   "metadata": {},
   "source": [
    "# Plot"
   ]
  },
  {
   "cell_type": "code",
   "execution_count": 15,
   "id": "2f36645b",
   "metadata": {},
   "outputs": [
    {
     "data": {
      "image/png": "[encoded data removed]",
      "text/plain": [
       "<Figure size 432x288 with 1 Axes>"
      ]
     },
     "metadata": {
      "needs_background": "light"
     },
     "output_type": "display_data"
    }
   ],
   "source": [
    "plt.plot(reg_history.history[\"loss\"])\n",
    "plt.plot(reg_history.history[\"val_loss\"])\n",
    "plt.title(\"Loss vs Epoch\")\n",
    "plt.ylabel(\"loss\")\n",
    "plt.xlabel(\"epoch\")\n",
    "plt.legend([\"Training\", \"Validation\"], loc = \"upper right\")\n",
    "plt.show()"
   ]
  },
  {
   "cell_type": "code",
   "execution_count": null,
   "id": "9da04e55",
   "metadata": {},
   "outputs": [],
   "source": []
  }
 ],
 "metadata": {
  "kernelspec": {
   "display_name": "Python 3",
   "language": "python",
   "name": "python3"
  },
  "language_info": {
   "codemirror_mode": {
    "name": "ipython",
    "version": 3
   },
   "file_extension": ".py",
   "mimetype": "text/x-python",
   "name": "python",
   "nbconvert_exporter": "python",
   "pygments_lexer": "ipython3",
   "version": "3.7.11"
  }
 },
 "nbformat": 4,
 "nbformat_minor": 5
}
