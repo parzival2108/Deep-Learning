{
 "cells": [
  {
   "cell_type": "markdown",
   "id": "bdffeda6",
   "metadata": {},
   "source": [
    "# Packages"
   ]
  },
  {
   "cell_type": "code",
   "execution_count": 1,
   "id": "46ac854e",
   "metadata": {},
   "outputs": [
    {
     "name": "stderr",
     "output_type": "stream",
     "text": [
      "/Users/parzival2108/opt/anaconda3/lib/python3.7/site-packages/ipykernel_launcher.py:5: DeprecationWarning: `import kerastuner` is deprecated, please use `import keras_tuner`.\n",
      "  \"\"\"\n"
     ]
    },
    {
     "data": {
      "text/plain": [
       "'2.5.0'"
      ]
     },
     "execution_count": 1,
     "metadata": {},
     "output_type": "execute_result"
    }
   ],
   "source": [
    "import numpy as np\n",
    "import tensorflow as tf\n",
    "from tensorflow import keras\n",
    "mnist = tf.keras.datasets.mnist\n",
    "import kerastuner as kt\n",
    "import matplotlib.pyplot as plt\n",
    "from tensorflow.keras.datasets import cifar10\n",
    "%matplotlib inline\n",
    "tf.__version__"
   ]
  },
  {
   "cell_type": "markdown",
   "id": "b946dd51",
   "metadata": {},
   "source": [
    "# Class names"
   ]
  },
  {
   "cell_type": "code",
   "execution_count": 2,
   "id": "d0360152",
   "metadata": {},
   "outputs": [],
   "source": [
    "class_names = [\"airplane\",\n",
    "              \"automobile\",\n",
    "              \"bird\",\n",
    "              'cat',\n",
    "              \"deer\",\n",
    "              \"dog\",\n",
    "              \"frog\",\n",
    "              \"horse\",\n",
    "              \"ship\",\n",
    "              \"truck\"]"
   ]
  },
  {
   "cell_type": "code",
   "execution_count": 3,
   "id": "21270509",
   "metadata": {},
   "outputs": [
    {
     "data": {
      "text/plain": [
       "10"
      ]
     },
     "execution_count": 3,
     "metadata": {},
     "output_type": "execute_result"
    }
   ],
   "source": [
    "len(class_names)"
   ]
  },
  {
   "cell_type": "code",
   "execution_count": 4,
   "id": "75d30500",
   "metadata": {},
   "outputs": [],
   "source": [
    "(x_train,y_train), (x_test,y_test) = cifar10.load_data()"
   ]
  },
  {
   "cell_type": "code",
   "execution_count": 5,
   "id": "7be65a3e",
   "metadata": {},
   "outputs": [
    {
     "name": "stdout",
     "output_type": "stream",
     "text": [
      "(50000, 32, 32, 3) (50000, 1) (10000, 32, 32, 3) (10000, 1)\n"
     ]
    }
   ],
   "source": [
    "print(x_train.shape, y_train.shape, x_test.shape, y_test.shape)"
   ]
  },
  {
   "cell_type": "markdown",
   "id": "c2a37b3c",
   "metadata": {},
   "source": [
    "# Image Normalization"
   ]
  },
  {
   "cell_type": "code",
   "execution_count": 6,
   "id": "a328c6f5",
   "metadata": {},
   "outputs": [],
   "source": [
    "x_train = x_train/255.0\n",
    "x_test = x_test/255.0"
   ]
  },
  {
   "cell_type": "code",
   "execution_count": null,
   "id": "f33b2119",
   "metadata": {},
   "outputs": [],
   "source": [
    "print(x_train.shape, x_test.shape)\n",
    "\n"
   ]
  },
  {
   "cell_type": "code",
   "execution_count": null,
   "id": "a13099c1",
   "metadata": {},
   "outputs": [],
   "source": [
    "plt.imshow(x_test[10])"
   ]
  },
  {
   "cell_type": "code",
   "execution_count": null,
   "id": "8fd4474a",
   "metadata": {},
   "outputs": [],
   "source": []
  },
  {
   "cell_type": "markdown",
   "id": "2ec7e693",
   "metadata": {},
   "source": [
    "# Shallow CNN Model with Hyperband Optimization"
   ]
  },
  {
   "cell_type": "code",
   "execution_count": 7,
   "id": "067610ee",
   "metadata": {},
   "outputs": [
    {
     "name": "stdout",
     "output_type": "stream",
     "text": [
      "Trial 19 Complete [00h 01m 01s]\n",
      "val_accuracy: 0.10140000283718109\n",
      "\n",
      "Best val_accuracy So Far: 0.17069999873638153\n",
      "Total elapsed time: 00h 06m 41s\n",
      "INFO:tensorflow:Oracle triggered exit\n"
     ]
    }
   ],
   "source": [
    "def model_builder(hp):\n",
    "    model1 = keras.Sequential()\n",
    "    model1.add(keras.layers.Flatten(input_shape = [32,32,3]))\n",
    "    hp_units = hp.Int('units',\n",
    "                     min_value = 16,\n",
    "                     max_value= 512,\n",
    "                     step = 16)\n",
    "    model1.add(keras.layers.Dense(units = hp_units,\n",
    "                                activation = 'relu'))\n",
    "    model1.add(tf.keras.layers.Dropout(0.2))\n",
    "    model1.add(keras.layers.Dense(10))\n",
    "    \n",
    "    \n",
    "    model1.compile(optimizer = 'adam',\n",
    "             loss = \"sparse_categorical_crossentropy\",\n",
    "             metrics = ['accuracy'])\n",
    "    return model1\n",
    "\n",
    "\n",
    "\n",
    "tuner = kt.Hyperband(model_builder,\n",
    "                    objective = 'val_accuracy',\n",
    "                    max_epochs = 10,\n",
    "                    factor =3,\n",
    "                    directory = \"my_dir1\",\n",
    "                    project_name = 'intro_to_keras_tunning1')\n",
    "stop_early = tf.keras.callbacks.EarlyStopping(monitor = 'val_loss',\n",
    "                                             patience = 5)\n",
    "\n",
    "tuner.search(x_train, \n",
    "            y_train,\n",
    "            epochs =20,\n",
    "            validation_split = 0.2,\n",
    "            callbacks = [stop_early])"
   ]
  },
  {
   "cell_type": "code",
   "execution_count": null,
   "id": "2fedb1a6",
   "metadata": {},
   "outputs": [],
   "source": []
  },
  {
   "cell_type": "code",
   "execution_count": null,
   "id": "dd63ccb2",
   "metadata": {},
   "outputs": [],
   "source": []
  },
  {
   "cell_type": "code",
   "execution_count": null,
   "id": "6b5873c9",
   "metadata": {},
   "outputs": [],
   "source": []
  },
  {
   "cell_type": "code",
   "execution_count": null,
   "id": "8e9bde62",
   "metadata": {},
   "outputs": [],
   "source": []
  },
  {
   "cell_type": "code",
   "execution_count": null,
   "id": "fd240e14",
   "metadata": {},
   "outputs": [],
   "source": []
  },
  {
   "cell_type": "code",
   "execution_count": null,
   "id": "a5824b63",
   "metadata": {},
   "outputs": [],
   "source": []
  },
  {
   "cell_type": "code",
   "execution_count": null,
   "id": "2e0e22b7",
   "metadata": {},
   "outputs": [],
   "source": []
  },
  {
   "cell_type": "markdown",
   "id": "2bbd88fc",
   "metadata": {},
   "source": [
    "# Questions for myself"
   ]
  },
  {
   "cell_type": "markdown",
   "id": "d5b303bf",
   "metadata": {},
   "source": [
    "1. How to decide how many filters\n",
    "2. How to decide on padding and strides\n",
    "3. How to decide the activation, relu, softmax and more\n",
    "4. How to decide on how many neurons\n",
    "5. Sparse Categorical Accuracy VS. Sparse categorical crossentropy\n",
    "6. Performance Evaluation Metrics\n",
    "5. Loss vs Metrics\n",
    "6. How many Layers of CNN and how many layers Maxpool?\n",
    "7. Drop out strategy. \n",
    "8. Check assignment requirements\n",
    "9. Watch lectures from deep learning class\n",
    "10. types are of CNN and their differences. \n",
    "11. Bias in the convolution layer"
   ]
  },
  {
   "cell_type": "markdown",
   "id": "9340cb56",
   "metadata": {},
   "source": [
    "- why use fully connected layers at the end\n",
    "- why use conv/deconv in the end layer\n",
    "- full connection vs gaussian connection"
   ]
  },
  {
   "cell_type": "markdown",
   "id": "2b09cdd1",
   "metadata": {},
   "source": []
  },
  {
   "cell_type": "code",
   "execution_count": null,
   "id": "a9a841fc",
   "metadata": {},
   "outputs": [],
   "source": []
  }
 ],
 "metadata": {
  "kernelspec": {
   "display_name": "Python 3",
   "language": "python",
   "name": "python3"
  },
  "language_info": {
   "codemirror_mode": {
    "name": "ipython",
    "version": 3
   },
   "file_extension": ".py",
   "mimetype": "text/x-python",
   "name": "python",
   "nbconvert_exporter": "python",
   "pygments_lexer": "ipython3",
   "version": "3.7.11"
  }
 },
 "nbformat": 4,
 "nbformat_minor": 5
}
