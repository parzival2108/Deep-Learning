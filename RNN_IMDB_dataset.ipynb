{
 "cells": [
  {
   "cell_type": "code",
   "execution_count": 89,
   "id": "2ed5bf29",
   "metadata": {},
   "outputs": [
    {
     "data": {
      "text/plain": [
       "'3.7.7'"
      ]
     },
     "execution_count": 89,
     "metadata": {},
     "output_type": "execute_result"
    }
   ],
   "source": [
    "from tensorflow.keras.preprocessing.sequence import pad_sequences\n",
    "from tensorflow.keras.layers import Masking\n",
    "from tensorflow.keras import Sequential\n",
    "import tensorflow as tf\n",
    "from tensorflow.keras.layers import Embedding, LSTM, Dropout, Dense, GRU,Bidirectional\n",
    "import matplotlib.pyplot as plt\n",
    "from tensorflow.keras.datasets import imdb\n",
    "import numpy as np\n",
    "tf.__version__\n",
    "from platform import python_version\n",
    "np.version.version\n",
    "python_version()"
   ]
  },
  {
   "cell_type": "markdown",
   "id": "f495a383",
   "metadata": {},
   "source": [
    "# Variable length issue"
   ]
  },
  {
   "cell_type": "code",
   "execution_count": 69,
   "id": "1cee5ed6",
   "metadata": {},
   "outputs": [
    {
     "name": "stderr",
     "output_type": "stream",
     "text": [
      "/Users/parzival2108/opt/anaconda3/lib/python3.7/site-packages/tensorflow_core/python/keras/datasets/imdb.py:129: VisibleDeprecationWarning: Creating an ndarray from ragged nested sequences (which is a list-or-tuple of lists-or-tuples-or ndarrays with different lengths or shapes) is deprecated. If you meant to do this, you must specify 'dtype=object' when creating the ndarray\n",
      "  x_train, y_train = np.array(xs[:idx]), np.array(labels[:idx])\n",
      "/Users/parzival2108/opt/anaconda3/lib/python3.7/site-packages/tensorflow_core/python/keras/datasets/imdb.py:130: VisibleDeprecationWarning: Creating an ndarray from ragged nested sequences (which is a list-or-tuple of lists-or-tuples-or ndarrays with different lengths or shapes) is deprecated. If you meant to do this, you must specify 'dtype=object' when creating the ndarray\n",
      "  x_test, y_test = np.array(xs[idx:]), np.array(labels[idx:])\n"
     ]
    }
   ],
   "source": [
    "(x_train,y_train),(x_test,y_test) = imdb.load_data()"
   ]
  },
  {
   "cell_type": "code",
   "execution_count": 70,
   "id": "520cbced",
   "metadata": {},
   "outputs": [
    {
     "name": "stdout",
     "output_type": "stream",
     "text": [
      "(25000,) (25000,) (25000,) (25000,)\n"
     ]
    }
   ],
   "source": [
    "print(x_train.shape, y_train.shape, x_test.shape,y_test.shape)"
   ]
  },
  {
   "cell_type": "markdown",
   "id": "4963eb64",
   "metadata": {},
   "source": [
    "#  Masking layer to ignore padded values"
   ]
  },
  {
   "cell_type": "code",
   "execution_count": 71,
   "id": "aaeda9f1",
   "metadata": {},
   "outputs": [],
   "source": [
    "x_train = pad_sequences(x_train,maxlen = 234)"
   ]
  },
  {
   "cell_type": "code",
   "execution_count": 72,
   "id": "e1dd75f1",
   "metadata": {},
   "outputs": [],
   "source": [
    "x_test = pad_sequences(x_test, maxlen = 234)"
   ]
  },
  {
   "cell_type": "code",
   "execution_count": 64,
   "id": "47da0f5e",
   "metadata": {},
   "outputs": [],
   "source": [
    "# masking_layer = Masking(mask_value=0)\n",
    "# x_train = x_train[...,np.newaxis]\n",
    "# x_train_masked = masking_layer(x_train)\n",
    "\n",
    "\n"
   ]
  },
  {
   "cell_type": "code",
   "execution_count": 55,
   "id": "62ad414f",
   "metadata": {},
   "outputs": [],
   "source": [
    "# masking_layer = Masking(mask_value=0)\n",
    "# x_test = x_test[...,np.newaxis]\n",
    "# x_test_masked = masking_layer(x_test)"
   ]
  },
  {
   "cell_type": "code",
   "execution_count": 73,
   "id": "076f88f1",
   "metadata": {},
   "outputs": [
    {
     "name": "stdout",
     "output_type": "stream",
     "text": [
      "88586 88584\n"
     ]
    }
   ],
   "source": [
    "print(np.max(x_train), np.max(x_test))"
   ]
  },
  {
   "cell_type": "code",
   "execution_count": 74,
   "id": "dfd0d9b7",
   "metadata": {},
   "outputs": [],
   "source": [
    "max_index= np.max(x_train_masked)"
   ]
  },
  {
   "cell_type": "code",
   "execution_count": 75,
   "id": "9476d05a",
   "metadata": {},
   "outputs": [
    {
     "data": {
      "text/plain": [
       "88586"
      ]
     },
     "execution_count": 75,
     "metadata": {},
     "output_type": "execute_result"
    }
   ],
   "source": [
    "max_index"
   ]
  },
  {
   "cell_type": "markdown",
   "id": "389a049b",
   "metadata": {},
   "source": [
    "# Make the model"
   ]
  },
  {
   "cell_type": "code",
   "execution_count": 80,
   "id": "72e5a77f",
   "metadata": {},
   "outputs": [],
   "source": [
    "model_1 = Sequential([\n",
    "    Embedding(input_dim=max_index+1, output_dim= 30, input_length=234,mask_zero=True),\n",
    "    LSTM(units= 128, activation=\"tanh\"),\n",
    "    Dense(units=1, activation= \"sigmoid\")\n",
    "])"
   ]
  },
  {
   "cell_type": "code",
   "execution_count": 81,
   "id": "793e92bb",
   "metadata": {},
   "outputs": [],
   "source": [
    "model_1.compile(optimizer = \"adam\",\n",
    "             loss= \"binary_crossentropy\", \n",
    "             metrics = [\"accuracy\"])"
   ]
  },
  {
   "cell_type": "code",
   "execution_count": 82,
   "id": "48294f6c",
   "metadata": {},
   "outputs": [
    {
     "name": "stdout",
     "output_type": "stream",
     "text": [
      "Train on 25000 samples\n",
      "Epoch 1/3\n",
      "25000/25000 [==============================] - 85s 3ms/sample - loss: 0.5400 - accuracy: 0.7176\n",
      "Epoch 2/3\n",
      "25000/25000 [==============================] - 80s 3ms/sample - loss: 0.2757 - accuracy: 0.8944\n",
      "Epoch 3/3\n",
      "25000/25000 [==============================] - 76s 3ms/sample - loss: 0.1448 - accuracy: 0.9492\n"
     ]
    }
   ],
   "source": [
    "history_1 = model_1.fit(x_train,y_train, epochs = 3, batch_size = 128)"
   ]
  },
  {
   "cell_type": "markdown",
   "id": "067c6f9a",
   "metadata": {},
   "source": []
  },
  {
   "cell_type": "markdown",
   "id": "50c97366",
   "metadata": {},
   "source": [
    "# Train with GRU"
   ]
  },
  {
   "cell_type": "code",
   "execution_count": 85,
   "id": "32eb4594",
   "metadata": {},
   "outputs": [],
   "source": [
    "model_2 = Sequential([\n",
    "    Embedding(input_dim=max_index+1, output_dim= 30, input_length=234,mask_zero=True),\n",
    "    GRU(units= 128, activation=\"tanh\"),\n",
    "    Dense(units=1, activation= \"sigmoid\")\n",
    "])"
   ]
  },
  {
   "cell_type": "code",
   "execution_count": 86,
   "id": "4aeb8ecb",
   "metadata": {},
   "outputs": [],
   "source": [
    "model_2.compile(optimizer = \"adam\",\n",
    "             loss= \"binary_crossentropy\", \n",
    "             metrics = [\"accuracy\"])"
   ]
  },
  {
   "cell_type": "code",
   "execution_count": 87,
   "id": "6aa4ad6d",
   "metadata": {},
   "outputs": [
    {
     "name": "stdout",
     "output_type": "stream",
     "text": [
      "Train on 25000 samples\n",
      "Epoch 1/3\n",
      "25000/25000 [==============================] - 75s 3ms/sample - loss: 0.5334 - accuracy: 0.7276\n",
      "Epoch 2/3\n",
      "25000/25000 [==============================] - 71s 3ms/sample - loss: 0.2308 - accuracy: 0.9103\n",
      "Epoch 3/3\n",
      "25000/25000 [==============================] - 69s 3ms/sample - loss: 0.1121 - accuracy: 0.9610\n"
     ]
    }
   ],
   "source": [
    "history_2 = model_2.fit(x_train,y_train, epochs = 3, batch_size = 128)"
   ]
  },
  {
   "cell_type": "markdown",
   "id": "cf8149bd",
   "metadata": {},
   "source": [
    "# Model 3"
   ]
  },
  {
   "cell_type": "code",
   "execution_count": 91,
   "id": "bc7a4bdb",
   "metadata": {},
   "outputs": [],
   "source": [
    "model_3 = Sequential([\n",
    "    Embedding(input_dim=max_index+1, output_dim= 30, input_length=234,mask_zero=True),\n",
    "    LSTM(units= 128, return_sequences= True),\n",
    "    LSTM(units= 128, return_sequences= False),# an other return recurrent layer, return sequence false to only get the final output of the layer\n",
    "    Dense(units=1, activation= \"sigmoid\")\n",
    "])"
   ]
  },
  {
   "cell_type": "code",
   "execution_count": 92,
   "id": "c986239a",
   "metadata": {},
   "outputs": [],
   "source": [
    "model_3.compile(optimizer = \"adam\",\n",
    "             loss= \"binary_crossentropy\", \n",
    "             metrics = [\"accuracy\"])"
   ]
  },
  {
   "cell_type": "code",
   "execution_count": 93,
   "id": "f223e0c3",
   "metadata": {},
   "outputs": [
    {
     "name": "stdout",
     "output_type": "stream",
     "text": [
      "Train on 25000 samples\n",
      "Epoch 1/3\n",
      "25000/25000 [==============================] - 171s 7ms/sample - loss: 0.4203 - accuracy: 0.7961\n",
      "Epoch 2/3\n",
      "25000/25000 [==============================] - 175s 7ms/sample - loss: 0.1688 - accuracy: 0.9397\n",
      "Epoch 3/3\n",
      "25000/25000 [==============================] - 166s 7ms/sample - loss: 0.0867 - accuracy: 0.9726\n"
     ]
    }
   ],
   "source": [
    "history_3 = model_3.fit(x_train,y_train, epochs = 3, batch_size = 128)"
   ]
  },
  {
   "cell_type": "markdown",
   "id": "27c9ca62",
   "metadata": {},
   "source": [
    "# Model 4"
   ]
  },
  {
   "cell_type": "markdown",
   "id": "4bc8b04c",
   "metadata": {},
   "source": [
    "### Bidirectional wraper"
   ]
  },
  {
   "cell_type": "code",
   "execution_count": 95,
   "id": "05253355",
   "metadata": {},
   "outputs": [],
   "source": [
    "model_4 = Sequential([\n",
    "    Embedding(input_dim=max_index+1, output_dim= 30, input_length=234,mask_zero=True),\n",
    "    Bidirectional(layer=LSTM(units= 128, return_sequences= True), merge_mode= \"sum\",\n",
    "                  backward_layer=GRU(units=128, go_backwards=True, return_sequences= True)),\n",
    "    GRU(units=128, return_sequences=False),\n",
    "    Dense(units=1, activation= \"sigmoid\")\n",
    "    \n",
    "    \n",
    "])"
   ]
  },
  {
   "cell_type": "code",
   "execution_count": 96,
   "id": "64d029dd",
   "metadata": {},
   "outputs": [],
   "source": [
    "model_4.compile(optimizer = \"adam\",\n",
    "             loss= \"binary_crossentropy\", \n",
    "             metrics = [\"accuracy\"])"
   ]
  },
  {
   "cell_type": "code",
   "execution_count": 97,
   "id": "59aba100",
   "metadata": {},
   "outputs": [
    {
     "name": "stdout",
     "output_type": "stream",
     "text": [
      "Train on 25000 samples\n",
      "Epoch 1/3\n",
      "25000/25000 [==============================] - 205s 8ms/sample - loss: 0.5491 - accuracy: 0.7156\n",
      "Epoch 2/3\n",
      "25000/25000 [==============================] - 201s 8ms/sample - loss: 0.2518 - accuracy: 0.9011\n",
      "Epoch 3/3\n",
      "25000/25000 [==============================] - 201s 8ms/sample - loss: 0.1157 - accuracy: 0.9604\n"
     ]
    }
   ],
   "source": [
    "history_4 = model_4.fit(x_train,y_train, epochs = 3, batch_size = 128)"
   ]
  },
  {
   "cell_type": "markdown",
   "id": "8816c67e",
   "metadata": {},
   "source": [
    "# Model 5"
   ]
  },
  {
   "cell_type": "markdown",
   "id": "3972445f",
   "metadata": {},
   "source": [
    "### Stacked and Bidirectional Recurrent Layers"
   ]
  },
  {
   "cell_type": "code",
   "execution_count": 98,
   "id": "9d77c337",
   "metadata": {},
   "outputs": [],
   "source": [
    "model_5 = Sequential([\n",
    "    Embedding(input_dim=max_index+1, output_dim= 30, input_length=234,mask_zero=True),\n",
    "    Bidirectional(layer=LSTM(units= 128, return_sequences= True), merge_mode= \"concat\"),\n",
    "    GRU(units=128, return_sequences=False),\n",
    "    Dense(units=1, activation= \"sigmoid\")\n",
    "])"
   ]
  },
  {
   "cell_type": "code",
   "execution_count": 99,
   "id": "3f3762b2",
   "metadata": {},
   "outputs": [],
   "source": [
    "model_5.compile(optimizer = \"adam\",\n",
    "             loss= \"binary_crossentropy\", \n",
    "             metrics = [\"accuracy\"])"
   ]
  },
  {
   "cell_type": "code",
   "execution_count": 100,
   "id": "c291ce97",
   "metadata": {},
   "outputs": [
    {
     "name": "stdout",
     "output_type": "stream",
     "text": [
      "Train on 25000 samples\n",
      "Epoch 1/3\n",
      "25000/25000 [==============================] - 220s 9ms/sample - loss: 0.4677 - accuracy: 0.7610\n",
      "Epoch 2/3\n",
      "25000/25000 [==============================] - 215s 9ms/sample - loss: 0.1886 - accuracy: 0.9287\n",
      "Epoch 3/3\n",
      "25000/25000 [==============================] - 216s 9ms/sample - loss: 0.0787 - accuracy: 0.9733\n"
     ]
    }
   ],
   "source": [
    "history_5 = model_5.fit(x_train,y_train, epochs = 3, batch_size = 128)"
   ]
  },
  {
   "cell_type": "code",
   "execution_count": null,
   "id": "f51ecf0a",
   "metadata": {},
   "outputs": [],
   "source": []
  }
 ],
 "metadata": {
  "kernelspec": {
   "display_name": "Python 3",
   "language": "python",
   "name": "python3"
  },
  "language_info": {
   "codemirror_mode": {
    "name": "ipython",
    "version": 3
   },
   "file_extension": ".py",
   "mimetype": "text/x-python",
   "name": "python",
   "nbconvert_exporter": "python",
   "pygments_lexer": "ipython3",
   "version": "3.7.7"
  }
 },
 "nbformat": 4,
 "nbformat_minor": 5
}
