{
 "cells": [
  {
   "cell_type": "code",
   "execution_count": 8,
   "id": "cc4c6d48",
   "metadata": {},
   "outputs": [],
   "source": [
    "import numpy as np\n",
    "import tensorflow as tf\n",
    "from tensorflow import keras\n",
    "mnist = tf.keras.datasets.mnist\n",
    "import kerastuner as kt\n",
    "import matplotlib.pyplot as plt\n",
    "from tensorflow.keras.datasets import cifar10\n",
    "%matplotlib inline\n",
    "tf.__version__\n",
    "from keras.layers import Dense, Activation, Flatten, Dropout, BatchNormalization"
   ]
  },
  {
   "cell_type": "markdown",
   "id": "4f26c9ff",
   "metadata": {},
   "source": [
    "# Data Preprocessing"
   ]
  },
  {
   "cell_type": "code",
   "execution_count": 4,
   "id": "bd9d2ff4",
   "metadata": {},
   "outputs": [],
   "source": [
    "class_names = [\"dog\",\n",
    "               \"airplane\",\n",
    "              \"automobile\",\n",
    "              \"bird\",\n",
    "              'cat',\n",
    "              \"deer\",\n",
    "              \"frog\",\n",
    "              \"horse\",\n",
    "              \"ship\",\n",
    "              \"truck\"]\n"
   ]
  },
  {
   "cell_type": "code",
   "execution_count": 5,
   "id": "298d771d",
   "metadata": {},
   "outputs": [],
   "source": [
    "(x_train,y_train), (x_test,y_test) = cifar10.load_data()"
   ]
  },
  {
   "cell_type": "code",
   "execution_count": 6,
   "id": "f8d5d300",
   "metadata": {},
   "outputs": [],
   "source": [
    "x_train = x_train/255.0\n",
    "x_test = x_test/255.0"
   ]
  },
  {
   "cell_type": "code",
   "execution_count": 5,
   "id": "cf98935c",
   "metadata": {},
   "outputs": [
    {
     "data": {
      "text/plain": [
       "<matplotlib.image.AxesImage at 0x7f90b6961a50>"
      ]
     },
     "execution_count": 5,
     "metadata": {},
     "output_type": "execute_result"
    },
    {
     "data": {
      "image/png": "[encoded data removed]",
      "text/plain": [
       "<Figure size 432x288 with 1 Axes>"
      ]
     },
     "metadata": {
      "needs_background": "light"
     },
     "output_type": "display_data"
    }
   ],
   "source": [
    "plt.imshow(x_test[0])"
   ]
  },
  {
   "cell_type": "code",
   "execution_count": null,
   "id": "577ddf11",
   "metadata": {},
   "outputs": [],
   "source": []
  },
  {
   "cell_type": "markdown",
   "id": "c714d337",
   "metadata": {},
   "source": [
    "# Basic NN Model"
   ]
  },
  {
   "cell_type": "code",
   "execution_count": 6,
   "id": "cca6990f",
   "metadata": {},
   "outputs": [
    {
     "name": "stdout",
     "output_type": "stream",
     "text": [
      "Model: \"sequential\"\n",
      "_________________________________________________________________\n",
      "Layer (type)                 Output Shape              Param #   \n",
      "=================================================================\n",
      "flatten (Flatten)            (None, 3072)              0         \n",
      "_________________________________________________________________\n",
      "dense (Dense)                (None, 20)                61460     \n",
      "_________________________________________________________________\n",
      "dropout (Dropout)            (None, 20)                0         \n",
      "_________________________________________________________________\n",
      "dense_1 (Dense)              (None, 10)                210       \n",
      "=================================================================\n",
      "Total params: 61,670\n",
      "Trainable params: 61,670\n",
      "Non-trainable params: 0\n",
      "_________________________________________________________________\n"
     ]
    }
   ],
   "source": [
    "model = keras.Sequential()\n",
    "model.add(keras.layers.Flatten(input_shape = [32,32,3]))\n",
    "model.add(keras.layers.Dense(units = 20,\n",
    "                             activation = 'relu'))\n",
    "model.add(tf.keras.layers.Dropout(0.2))\n",
    "model.add(keras.layers.Dense(10))\n",
    "model.compile(optimizer = 'adam',\n",
    "              loss = \"sparse_categorical_crossentropy\",\n",
    "              metrics = ['accuracy'])"
   ]
  },
  {
   "cell_type": "code",
   "execution_count": 7,
   "id": "ad0b28c7",
   "metadata": {},
   "outputs": [
    {
     "name": "stdout",
     "output_type": "stream",
     "text": [
      "Epoch 1/5\n",
      "1563/1563 [==============================] - 2s 918us/step - loss: 7.6473 - accuracy: 0.1008\n",
      "Epoch 2/5\n",
      "1563/1563 [==============================] - 1s 881us/step - loss: 7.7916 - accuracy: 0.1027\n",
      "Epoch 3/5\n",
      "1563/1563 [==============================] - 1s 893us/step - loss: 7.7548 - accuracy: 0.1009\n",
      "Epoch 4/5\n",
      "1563/1563 [==============================] - 1s 900us/step - loss: 7.3240 - accuracy: 0.1006\n",
      "Epoch 5/5\n",
      "1563/1563 [==============================] - 1s 925us/step - loss: 7.2645 - accuracy: 0.0991\n"
     ]
    },
    {
     "data": {
      "text/plain": [
       "<tensorflow.python.keras.callbacks.History at 0x7f9063b27f90>"
      ]
     },
     "execution_count": 7,
     "metadata": {},
     "output_type": "execute_result"
    }
   ],
   "source": [
    "model.fit(x_train, y_train, epochs =5)\n"
   ]
  },
  {
   "cell_type": "code",
   "execution_count": 10,
   "id": "17611e87",
   "metadata": {},
   "outputs": [
    {
     "name": "stdout",
     "output_type": "stream",
     "text": [
      "313/313 [==============================] - 0s 677us/step - loss: 6.7813 - accuracy: 0.1000\n"
     ]
    }
   ],
   "source": [
    "test_loss, test_accuracy = model.evaluate(x_test,y_test)"
   ]
  },
  {
   "cell_type": "markdown",
   "id": "b621f898",
   "metadata": {},
   "source": [
    "# Basic CNN Model"
   ]
  },
  {
   "cell_type": "code",
   "execution_count": 20,
   "id": "3b01948e",
   "metadata": {},
   "outputs": [
    {
     "name": "stdout",
     "output_type": "stream",
     "text": [
      "Model: \"sequential\"\n",
      "_________________________________________________________________\n",
      "Layer (type)                 Output Shape              Param #   \n",
      "=================================================================\n",
      "flatten (Flatten)            (None, 3072)              0         \n",
      "_________________________________________________________________\n",
      "dense (Dense)                (None, 20)                61460     \n",
      "_________________________________________________________________\n",
      "dropout (Dropout)            (None, 20)                0         \n",
      "_________________________________________________________________\n",
      "dense_1 (Dense)              (None, 10)                210       \n",
      "=================================================================\n",
      "Total params: 61,670\n",
      "Trainable params: 61,670\n",
      "Non-trainable params: 0\n",
      "_________________________________________________________________\n"
     ]
    }
   ],
   "source": [
    "model1 = keras.Sequential()\n",
    "model1.add(tf.keras.layers.Conv2D(filters =16,\n",
    "                                kernel_size =(3,3),\n",
    "                                padding ='same',\n",
    "                                activation = \"relu\",\n",
    "                                input_shape = [32,32,3]))\n",
    "model1.add(keras.layers.Flatten())\n",
    "model1.add(keras.layers.Dense(units = 20,\n",
    "                             activation = 'relu'))\n",
    "\n",
    "model1.add(keras.layers.Dense(10))\n",
    "model.summary()\n",
    "model1.compile(optimizer = 'adam',\n",
    "              loss = \"sparse_categorical_crossentropy\",\n",
    "              metrics = ['accuracy'])"
   ]
  },
  {
   "cell_type": "code",
   "execution_count": 21,
   "id": "7b3eb193",
   "metadata": {},
   "outputs": [
    {
     "name": "stdout",
     "output_type": "stream",
     "text": [
      "Epoch 1/5\n",
      "1563/1563 [==============================] - 9s 5ms/step - loss: 8.4638 - accuracy: 0.0983\n",
      "Epoch 2/5\n",
      "1563/1563 [==============================] - 9s 6ms/step - loss: 8.2414 - accuracy: 0.1058\n",
      "Epoch 3/5\n",
      "1563/1563 [==============================] - 8s 5ms/step - loss: 8.2390 - accuracy: 0.1002\n",
      "Epoch 4/5\n",
      "1563/1563 [==============================] - 8s 5ms/step - loss: 8.2389 - accuracy: 0.1070\n",
      "Epoch 5/5\n",
      "1563/1563 [==============================] - 8s 5ms/step - loss: 10.1165 - accuracy: 0.1049\n"
     ]
    },
    {
     "data": {
      "text/plain": [
       "<tensorflow.python.keras.callbacks.History at 0x7f8fe96ecf90>"
      ]
     },
     "execution_count": 21,
     "metadata": {},
     "output_type": "execute_result"
    }
   ],
   "source": [
    "model1.fit(x_train, y_train, epochs =5)"
   ]
  },
  {
   "cell_type": "code",
   "execution_count": 13,
   "id": "6567dc02",
   "metadata": {},
   "outputs": [
    {
     "name": "stdout",
     "output_type": "stream",
     "text": [
      "313/313 [==============================] - 0s 673us/step - loss: 6.7814 - accuracy: 0.1000\n"
     ]
    }
   ],
   "source": [
    "test_loss, test_accuracy = model1.evaluate(x_test,y_test)"
   ]
  },
  {
   "cell_type": "markdown",
   "id": "70633549",
   "metadata": {},
   "source": [
    "# CNN Model With Max Pooling"
   ]
  },
  {
   "cell_type": "code",
   "execution_count": null,
   "id": "e84f9a80",
   "metadata": {},
   "outputs": [],
   "source": [
    "#model1.add(tf.keras.layers.Dropout(0.2))"
   ]
  },
  {
   "cell_type": "code",
   "execution_count": 30,
   "id": "939dfd20",
   "metadata": {},
   "outputs": [
    {
     "name": "stdout",
     "output_type": "stream",
     "text": [
      "Model: \"sequential_7\"\n",
      "_________________________________________________________________\n",
      "Layer (type)                 Output Shape              Param #   \n",
      "=================================================================\n",
      "conv2d_7 (Conv2D)            (None, 32, 32, 16)        448       \n",
      "_________________________________________________________________\n",
      "max_pooling2d_4 (MaxPooling2 (None, 16, 16, 16)        0         \n",
      "_________________________________________________________________\n",
      "flatten_7 (Flatten)          (None, 4096)              0         \n",
      "_________________________________________________________________\n",
      "dense_12 (Dense)             (None, 20)                81940     \n",
      "_________________________________________________________________\n",
      "dense_13 (Dense)             (None, 10)                210       \n",
      "=================================================================\n",
      "Total params: 82,598\n",
      "Trainable params: 82,598\n",
      "Non-trainable params: 0\n",
      "_________________________________________________________________\n"
     ]
    }
   ],
   "source": [
    "model2 = keras.Sequential()\n",
    "model2.add(tf.keras.layers.Conv2D(filters =16,\n",
    "                                kernel_size =(3,3),\n",
    "                                padding ='same',\n",
    "                                activation = \"relu\",\n",
    "                                input_shape = [32,32,3]))\n",
    "model2.add(tf.keras.layers.MaxPool2D(pool_size =2,\n",
    "                                   strides =2,\n",
    "                                   padding = 'valid'))\n",
    "\n",
    "model2.add(keras.layers.Flatten())\n",
    "model2.add(keras.layers.Dense(units = 20,\n",
    "                             activation = 'relu'))\n",
    "\n",
    "model2.add(keras.layers.Dense(10))\n",
    "model2.summary()\n",
    "model2.compile(optimizer = 'adam',\n",
    "              loss = \"sparse_categorical_crossentropy\",\n",
    "              metrics = ['accuracy'])"
   ]
  },
  {
   "cell_type": "code",
   "execution_count": 31,
   "id": "a7485e5d",
   "metadata": {},
   "outputs": [
    {
     "name": "stdout",
     "output_type": "stream",
     "text": [
      "Epoch 1/5\n",
      "1563/1563 [==============================] - 8s 5ms/step - loss: 2.4810 - accuracy: 0.1003\n",
      "Epoch 2/5\n",
      "1563/1563 [==============================] - 8s 5ms/step - loss: 2.3026 - accuracy: 0.1000\n",
      "Epoch 3/5\n",
      "1563/1563 [==============================] - 8s 5ms/step - loss: 2.3026 - accuracy: 0.1000\n",
      "Epoch 4/5\n",
      "1563/1563 [==============================] - 8s 5ms/step - loss: 2.3026 - accuracy: 0.1000\n",
      "Epoch 5/5\n",
      "1563/1563 [==============================] - 8s 5ms/step - loss: 2.3026 - accuracy: 0.1000\n"
     ]
    },
    {
     "data": {
      "text/plain": [
       "<tensorflow.python.keras.callbacks.History at 0x7f8f896e8f10>"
      ]
     },
     "execution_count": 31,
     "metadata": {},
     "output_type": "execute_result"
    }
   ],
   "source": [
    "model2.fit(x_train, y_train, epochs =5)"
   ]
  },
  {
   "cell_type": "code",
   "execution_count": 18,
   "id": "3d77a6df",
   "metadata": {},
   "outputs": [
    {
     "name": "stdout",
     "output_type": "stream",
     "text": [
      "313/313 [==============================] - 1s 2ms/step - loss: 2.3026 - accuracy: 0.1000\n"
     ]
    }
   ],
   "source": [
    "test_loss, test_accuracy = model2.evaluate(x_test,y_test)"
   ]
  },
  {
   "cell_type": "markdown",
   "id": "bfc2f088",
   "metadata": {},
   "source": [
    "# CNN with Max Pooling, Padding"
   ]
  },
  {
   "cell_type": "code",
   "execution_count": null,
   "id": "ad7d101c",
   "metadata": {},
   "outputs": [],
   "source": []
  },
  {
   "cell_type": "code",
   "execution_count": 33,
   "id": "08fc30dc",
   "metadata": {},
   "outputs": [
    {
     "name": "stdout",
     "output_type": "stream",
     "text": [
      "Model: \"sequential_8\"\n",
      "_________________________________________________________________\n",
      "Layer (type)                 Output Shape              Param #   \n",
      "=================================================================\n",
      "conv2d_8 (Conv2D)            (None, 32, 32, 16)        448       \n",
      "_________________________________________________________________\n",
      "max_pooling2d_5 (MaxPooling2 (None, 16, 16, 16)        0         \n",
      "_________________________________________________________________\n",
      "conv2d_9 (Conv2D)            (None, 16, 16, 32)        4640      \n",
      "_________________________________________________________________\n",
      "max_pooling2d_6 (MaxPooling2 (None, 8, 8, 32)          0         \n",
      "_________________________________________________________________\n",
      "flatten_8 (Flatten)          (None, 2048)              0         \n",
      "_________________________________________________________________\n",
      "dense_14 (Dense)             (None, 20)                40980     \n",
      "_________________________________________________________________\n",
      "dense_15 (Dense)             (None, 10)                210       \n",
      "=================================================================\n",
      "Total params: 46,278\n",
      "Trainable params: 46,278\n",
      "Non-trainable params: 0\n",
      "_________________________________________________________________\n"
     ]
    }
   ],
   "source": [
    "model3 = keras.Sequential()\n",
    "model3.add(tf.keras.layers.Conv2D(filters =16,\n",
    "                                kernel_size =(3,3),\n",
    "                                padding ='same',\n",
    "                                activation = \"relu\",\n",
    "                                input_shape = [32,32,3]))\n",
    "model3.add(tf.keras.layers.MaxPool2D(pool_size =2,\n",
    "                                   strides =2,\n",
    "                                   padding = 'valid'))\n",
    "\n",
    "model3.add(tf.keras.layers.Conv2D(filters = (32),\n",
    "                                kernel_size = 3,\n",
    "                                padding = \"same\",\n",
    "                                activation = \"relu\"))\n",
    "model3.add(tf.keras.layers.MaxPool2D(pool_size = 2,\n",
    "                                   strides =2,\n",
    "                                   padding = 'valid'))\n",
    "\n",
    "model3.add(keras.layers.Flatten())\n",
    "model3.add(keras.layers.Dense(units = 20,\n",
    "                             activation = 'relu'))\n",
    "\n",
    "model3.add(keras.layers.Dense(10))\n",
    "model3.summary()\n",
    "model3.compile(optimizer = 'adam',\n",
    "              loss = \"sparse_categorical_crossentropy\",\n",
    "              metrics = ['accuracy'])"
   ]
  },
  {
   "cell_type": "code",
   "execution_count": 34,
   "id": "b511ccc3",
   "metadata": {},
   "outputs": [
    {
     "name": "stdout",
     "output_type": "stream",
     "text": [
      "Epoch 1/5\n",
      "1563/1563 [==============================] - 16s 10ms/step - loss: 2.5373 - accuracy: 0.0846\n",
      "Epoch 2/5\n",
      "1563/1563 [==============================] - 17s 11ms/step - loss: 2.3026 - accuracy: 0.0844\n",
      "Epoch 3/5\n",
      "1563/1563 [==============================] - 15s 10ms/step - loss: 2.3026 - accuracy: 0.0844\n",
      "Epoch 4/5\n",
      "1563/1563 [==============================] - 14s 9ms/step - loss: 2.3026 - accuracy: 0.0844\n",
      "Epoch 5/5\n",
      "1563/1563 [==============================] - 14s 9ms/step - loss: 2.3026 - accuracy: 0.0844\n"
     ]
    },
    {
     "data": {
      "text/plain": [
       "<tensorflow.python.keras.callbacks.History at 0x7f8f896d4e90>"
      ]
     },
     "execution_count": 34,
     "metadata": {},
     "output_type": "execute_result"
    }
   ],
   "source": [
    "model3.fit(x_train, y_train, epochs =5)"
   ]
  },
  {
   "cell_type": "code",
   "execution_count": 35,
   "id": "95eb14f9",
   "metadata": {},
   "outputs": [
    {
     "name": "stdout",
     "output_type": "stream",
     "text": [
      "313/313 [==============================] - 1s 1ms/step - loss: 2.3026 - accuracy: 0.1000\n"
     ]
    }
   ],
   "source": [
    "test_loss, test_accuracy = model2.evaluate(x_test,y_test)"
   ]
  },
  {
   "cell_type": "markdown",
   "id": "9c50df6a",
   "metadata": {},
   "source": [
    "# CNN with MaxPool, Padding, Dropout"
   ]
  },
  {
   "cell_type": "code",
   "execution_count": 36,
   "id": "2588ae58",
   "metadata": {},
   "outputs": [
    {
     "name": "stdout",
     "output_type": "stream",
     "text": [
      "Model: \"sequential_9\"\n",
      "_________________________________________________________________\n",
      "Layer (type)                 Output Shape              Param #   \n",
      "=================================================================\n",
      "conv2d_10 (Conv2D)           (None, 32, 32, 16)        448       \n",
      "_________________________________________________________________\n",
      "max_pooling2d_7 (MaxPooling2 (None, 16, 16, 16)        0         \n",
      "_________________________________________________________________\n",
      "conv2d_11 (Conv2D)           (None, 16, 16, 32)        4640      \n",
      "_________________________________________________________________\n",
      "max_pooling2d_8 (MaxPooling2 (None, 8, 8, 32)          0         \n",
      "_________________________________________________________________\n",
      "flatten_9 (Flatten)          (None, 2048)              0         \n",
      "_________________________________________________________________\n",
      "dense_16 (Dense)             (None, 20)                40980     \n",
      "_________________________________________________________________\n",
      "dropout_2 (Dropout)          (None, 20)                0         \n",
      "_________________________________________________________________\n",
      "dense_17 (Dense)             (None, 10)                210       \n",
      "=================================================================\n",
      "Total params: 46,278\n",
      "Trainable params: 46,278\n",
      "Non-trainable params: 0\n",
      "_________________________________________________________________\n"
     ]
    }
   ],
   "source": [
    "model4 = keras.Sequential()\n",
    "model4.add(tf.keras.layers.Conv2D(filters =16,\n",
    "                                kernel_size =(3,3),\n",
    "                                padding ='same',\n",
    "                                activation = \"relu\",\n",
    "                                input_shape = [32,32,3]))\n",
    "model4.add(tf.keras.layers.MaxPool2D(pool_size =2,\n",
    "                                   strides =2,\n",
    "                                   padding = 'valid'))\n",
    "\n",
    "model4.add(tf.keras.layers.Conv2D(filters = (32),\n",
    "                                kernel_size = 3,\n",
    "                                padding = \"same\",\n",
    "                                activation = \"relu\"))\n",
    "model4.add(tf.keras.layers.MaxPool2D(pool_size = 2,\n",
    "                                   strides =2,\n",
    "                                   padding = 'valid'))\n",
    "\n",
    "model4.add(keras.layers.Flatten())\n",
    "model4.add(keras.layers.Dense(units = 20,\n",
    "                             activation = 'relu'))\n",
    "model4.add(tf.keras.layers.Dropout(0.2))\n",
    "model4.add(keras.layers.Dense(10))\n",
    "model4.summary()\n",
    "model4.compile(optimizer = 'adam',\n",
    "              loss = \"sparse_categorical_crossentropy\",\n",
    "              metrics = ['accuracy'])"
   ]
  },
  {
   "cell_type": "code",
   "execution_count": null,
   "id": "63145862",
   "metadata": {},
   "outputs": [
    {
     "name": "stdout",
     "output_type": "stream",
     "text": [
      "Epoch 1/5\n",
      "1563/1563 [==============================] - 14s 9ms/step - loss: 3.5700 - accuracy: 0.0974\n",
      "Epoch 2/5\n",
      "1563/1563 [==============================] - 13s 9ms/step - loss: 3.7821 - accuracy: 0.0978\n",
      "Epoch 3/5\n",
      " 822/1563 [==============>...............] - ETA: 6s - loss: 2.3026 - accuracy: 0.1005"
     ]
    }
   ],
   "source": [
    "model4.fit(x_train, y_train, epochs =5)"
   ]
  },
  {
   "cell_type": "code",
   "execution_count": null,
   "id": "124f0044",
   "metadata": {},
   "outputs": [],
   "source": [
    "test_loss, test_accuracy = model4.evaluate(x_test,y_test)"
   ]
  },
  {
   "cell_type": "markdown",
   "id": "b0c08f00",
   "metadata": {},
   "source": [
    "# CNN with Batch Normalization Comparison"
   ]
  },
  {
   "cell_type": "code",
   "execution_count": null,
   "id": "982be0af",
   "metadata": {},
   "outputs": [],
   "source": []
  },
  {
   "cell_type": "code",
   "execution_count": 9,
   "id": "3f63ecaa",
   "metadata": {},
   "outputs": [
    {
     "name": "stdout",
     "output_type": "stream",
     "text": [
      "Model: \"sequential_1\"\n",
      "_________________________________________________________________\n",
      "Layer (type)                 Output Shape              Param #   \n",
      "=================================================================\n",
      "conv2d_1 (Conv2D)            (None, 32, 32, 16)        448       \n",
      "_________________________________________________________________\n",
      "module_wrapper (ModuleWrappe (None, 32, 32, 16)        64        \n",
      "_________________________________________________________________\n",
      "max_pooling2d (MaxPooling2D) (None, 16, 16, 16)        0         \n",
      "_________________________________________________________________\n",
      "conv2d_2 (Conv2D)            (None, 16, 16, 32)        4640      \n",
      "_________________________________________________________________\n",
      "module_wrapper_1 (ModuleWrap (None, 16, 16, 32)        128       \n",
      "_________________________________________________________________\n",
      "max_pooling2d_1 (MaxPooling2 (None, 8, 8, 32)          0         \n",
      "_________________________________________________________________\n",
      "flatten (Flatten)            (None, 2048)              0         \n",
      "_________________________________________________________________\n",
      "dense (Dense)                (None, 20)                40980     \n",
      "_________________________________________________________________\n",
      "dropout (Dropout)            (None, 20)                0         \n",
      "_________________________________________________________________\n",
      "dense_1 (Dense)              (None, 10)                210       \n",
      "=================================================================\n",
      "Total params: 46,470\n",
      "Trainable params: 46,374\n",
      "Non-trainable params: 96\n",
      "_________________________________________________________________\n"
     ]
    }
   ],
   "source": [
    "model5 = keras.Sequential()\n",
    "model5.add(tf.keras.layers.Conv2D(filters =16,\n",
    "                                kernel_size =(3,3),\n",
    "                                padding ='same',\n",
    "                                activation = \"relu\",\n",
    "                                input_shape = [32,32,3]))\n",
    "model5.add(BatchNormalization())\n",
    "model5.add(tf.keras.layers.MaxPool2D(pool_size =2,\n",
    "                                   strides =2,\n",
    "                                   padding = 'valid'))\n",
    "\n",
    "model5.add(tf.keras.layers.Conv2D(filters = (32),\n",
    "                                kernel_size = 3,\n",
    "                                padding = \"same\",\n",
    "                                activation = \"relu\"))\n",
    "model5.add(BatchNormalization())\n",
    "model5.add(tf.keras.layers.MaxPool2D(pool_size = 2,\n",
    "                                   strides =2,\n",
    "                                   padding = 'valid'))\n",
    "\n",
    "model5.add(keras.layers.Flatten())\n",
    "model5.add(keras.layers.Dense(units = 20,\n",
    "                             activation = 'relu'))\n",
    "model5.add(tf.keras.layers.Dropout(0.2))\n",
    "model5.add(keras.layers.Dense(10))\n",
    "model5.summary()\n",
    "model5.compile(optimizer = 'adam',\n",
    "              loss = \"sparse_categorical_crossentropy\",\n",
    "              metrics = ['accuracy'])"
   ]
  },
  {
   "cell_type": "code",
   "execution_count": 10,
   "id": "bacf9abd",
   "metadata": {},
   "outputs": [
    {
     "name": "stdout",
     "output_type": "stream",
     "text": [
      "Epoch 1/5\n",
      "1563/1563 [==============================] - 25s 15ms/step - loss: 4.6235 - accuracy: 0.1383\n",
      "Epoch 2/5\n",
      "1563/1563 [==============================] - 25s 16ms/step - loss: 2.8590 - accuracy: 0.1301\n",
      "Epoch 3/5\n",
      "1563/1563 [==============================] - 24s 16ms/step - loss: 2.4081 - accuracy: 0.1067\n",
      "Epoch 4/5\n",
      "1563/1563 [==============================] - 25s 16ms/step - loss: 2.3748 - accuracy: 0.1265\n",
      "Epoch 5/5\n",
      "1563/1563 [==============================] - 26s 16ms/step - loss: 2.4588 - accuracy: 0.1415\n"
     ]
    },
    {
     "data": {
      "text/plain": [
       "<tensorflow.python.keras.callbacks.History at 0x7f852ce0f350>"
      ]
     },
     "execution_count": 10,
     "metadata": {},
     "output_type": "execute_result"
    }
   ],
   "source": [
    "model5.fit(x_train, y_train, epochs =5)"
   ]
  },
  {
   "cell_type": "code",
   "execution_count": 12,
   "id": "6cdf352b",
   "metadata": {},
   "outputs": [
    {
     "name": "stdout",
     "output_type": "stream",
     "text": [
      "313/313 [==============================] - 2s 5ms/step - loss: 2.3021 - accuracy: 0.1082\n"
     ]
    }
   ],
   "source": [
    "test_loss, test_accuracy = model5.evaluate(x_test,y_test)"
   ]
  },
  {
   "cell_type": "markdown",
   "id": "176230da",
   "metadata": {},
   "source": [
    "# Addition of Batch Normalization increased both Accuracy and Test Set."
   ]
  },
  {
   "cell_type": "code",
   "execution_count": null,
   "id": "76135856",
   "metadata": {},
   "outputs": [],
   "source": []
  }
 ],
 "metadata": {
  "kernelspec": {
   "display_name": "Python 3",
   "language": "python",
   "name": "python3"
  },
  "language_info": {
   "codemirror_mode": {
    "name": "ipython",
    "version": 3
   },
   "file_extension": ".py",
   "mimetype": "text/x-python",
   "name": "python",
   "nbconvert_exporter": "python",
   "pygments_lexer": "ipython3",
   "version": "3.7.11"
  }
 },
 "nbformat": 4,
 "nbformat_minor": 5
}
